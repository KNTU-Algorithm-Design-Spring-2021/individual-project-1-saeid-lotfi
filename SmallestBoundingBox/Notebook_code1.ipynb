{
 "cells": [
  {
   "cell_type": "markdown",
   "metadata": {},
   "source": [
    "# Smallest Bounding Box\n",
    "### Mehdi Lotfipour"
   ]
  },
  {
   "cell_type": "markdown",
   "metadata": {},
   "source": [
    "There are $n$ 2D points in a plane and we want to draw the smallest bounding region to cover all points. This region is a rectangle and is parallel to the axis. For this purpose we find the minimum and maximum for both x-coordinate and y-coordinate of points. Finding minimum or maximum in a 1D array at least takes a time of $O(n)$  and $n - 1$ comparison. Finding both min and max in a naive way takes a time of $O(2.n) = O(n)$  and $2n - 2$ comparison. But there is a better divide and conquer algorithm which is $O(n)$  with less comparison $\\frac{3n}{2}$. In this algorithm we divide the array to $\\frac{n}{2}$ pairs and compare each pair. This step takes $\\frac{n}{2}$ comparison. Then we keep the smaller number in minimum list and bigger one in maximum list. Now we have two list containing $\\frac{n}{2}$ number each. With $\\frac{n}{2} - 1$ comparison we can find min or max in each list. Total minimum must be in minimum list and total maximum is in maximum list.\n",
    "\n",
    "Total comparison: $\\frac{n}{2} + (\\frac{n}{2} - 1) + (\\frac{n}{2} - 1) = \\frac{3n}{2} - 2$ which is $O(n)$\n",
    "\n",
    "First we import main libraries for generating random data points and plotting final result."
   ]
  },
  {
   "cell_type": "code",
   "execution_count": 1,
   "metadata": {},
   "outputs": [],
   "source": [
    "#importing libraries\n",
    "import numpy as np\n",
    "import matplotlib.pyplot as plt\n",
    "from matplotlib.patches import Rectangle"
   ]
  },
  {
   "cell_type": "markdown",
   "metadata": {},
   "source": [
    "We generate 10000 random points and select 100 to looks completely random."
   ]
  },
  {
   "cell_type": "code",
   "execution_count": 2,
   "metadata": {},
   "outputs": [],
   "source": [
    "#generating random dataset for testing\n",
    "#making 10000 points and sampling 100 points\n",
    "dataset = np.random.normal(0, 1, size= [10000,2])\n",
    "index = np.random.choice(dataset.shape[0], size=100, replace= False)\n",
    "dataset = dataset[index]"
   ]
  },
  {
   "cell_type": "markdown",
   "metadata": {},
   "source": [
    "Then we define our min-max function which takes a 1D array and return its minimum and maximum."
   ]
  },
  {
   "cell_type": "code",
   "execution_count": 3,
   "metadata": {},
   "outputs": [],
   "source": [
    "#min_max function\n",
    "#take a list and return its min and max\n",
    "def min_max(given_list):\n",
    "    min_list = []\n",
    "    max_list = []\n",
    "    #if length of array is even\n",
    "    if len(given_list) % 2 == 0:\n",
    "        for i in range(0, len(given_list), 2):\n",
    "            if given_list[i] <= given_list[i + 1]:\n",
    "                min_list.append(given_list[i])\n",
    "                max_list.append(given_list[i + 1])\n",
    "            else:\n",
    "                max_list.append(given_list[i])\n",
    "                min_list.append(given_list[i + 1])\n",
    "    #if length of array is odd\n",
    "    else:\n",
    "        for i in range(0, len(given_list) - 1, 2):\n",
    "            if given_list[i] <= given_list[i + 1]:\n",
    "                min_list.append(given_list[i])\n",
    "                max_list.append(given_list[i + 1])\n",
    "            else:\n",
    "                max_list.append(given_list[i])\n",
    "                min_list.append(given_list[i + 1])\n",
    "            #adding last element in both list\n",
    "            min_list.append(given_list[-1])\n",
    "            max_list.append(given_list[-1])\n",
    "    return (min(min_list), max(max_list))"
   ]
  },
  {
   "cell_type": "markdown",
   "metadata": {},
   "source": [
    "We apply the function on x-coordinate and y-coordiante of points and keep its result."
   ]
  },
  {
   "cell_type": "code",
   "execution_count": 4,
   "metadata": {},
   "outputs": [],
   "source": [
    "#performing min_max function on both features\n",
    "#from generated dataset\n",
    "hor_min, hor_max = min_max(dataset[:,0])\n",
    "ver_min, ver_max = min_max(dataset[:,1])"
   ]
  },
  {
   "cell_type": "markdown",
   "metadata": {},
   "source": [
    "At the end we plot the points and its bounding box."
   ]
  },
  {
   "cell_type": "code",
   "execution_count": 5,
   "metadata": {},
   "outputs": [
    {
     "data": {
      "text/plain": [
       "<matplotlib.patches.Rectangle at 0x244aca44880>"
      ]
     },
     "execution_count": 5,
     "metadata": {},
     "output_type": "execute_result"
    },
    {
     "data": {
      "image/png": "[encoded data removed]",
      "text/plain": [
       "<Figure size 432x288 with 1 Axes>"
      ]
     },
     "metadata": {
      "needs_background": "light"
     },
     "output_type": "display_data"
    }
   ],
   "source": [
    "#showing result\n",
    "#scatter points and boundry lines\n",
    "fig, ax = plt.subplots()\n",
    "ax.set_xlim([-5, 5])\n",
    "ax.set_ylim([-5, 5])\n",
    "ax.scatter(dataset[:,0], dataset[:,1], s= 5, c= 'r')\n",
    "ax.add_patch(Rectangle((hor_min, ver_min), hor_max - hor_min, ver_max - ver_min,\n",
    "                       edgecolor = 'g', fill= False, lw= 1))"
   ]
  }
 ],
 "metadata": {
  "kernelspec": {
   "display_name": "Python 3",
   "language": "python",
   "name": "python3"
  },
  "language_info": {
   "codemirror_mode": {
    "name": "ipython",
    "version": 3
   },
   "file_extension": ".py",
   "mimetype": "text/x-python",
   "name": "python",
   "nbconvert_exporter": "python",
   "pygments_lexer": "ipython3",
   "version": "3.8.3"
  }
 },
 "nbformat": 4,
 "nbformat_minor": 4
}
