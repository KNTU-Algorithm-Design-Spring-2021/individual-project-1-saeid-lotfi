{
 "cells": [
  {
   "cell_type": "code",
   "execution_count": 1,
   "metadata": {},
   "outputs": [
    {
     "data": {
      "text/plain": [
       "<matplotlib.patches.Rectangle at 0x19987628520>"
      ]
     },
     "execution_count": 1,
     "metadata": {},
     "output_type": "execute_result"
    },
    {
     "data": {
      "image/png": "[encoded data removed]",
      "text/plain": [
       "<Figure size 432x288 with 1 Axes>"
      ]
     },
     "metadata": {
      "needs_background": "light"
     },
     "output_type": "display_data"
    }
   ],
   "source": [
    "#importing libraries\n",
    "import numpy as np\n",
    "import matplotlib.pyplot as plt\n",
    "from matplotlib.patches import Rectangle\n",
    "\n",
    "#generating random dataset for testing\n",
    "#making 10000 points and sampling 100 points\n",
    "dataset = np.random.normal(0, 1, size= [10000,2])\n",
    "index = np.random.choice(dataset.shape[0], size=100, replace= False)\n",
    "dataset = dataset[index]\n",
    "\n",
    "#min_max function\n",
    "#take a list and return its min and max\n",
    "def min_max(given_list):\n",
    "    if len(given_list) <= 1:\n",
    "        return (given_list[0], given_list[0])\n",
    "    elif len(given_list) == 2:\n",
    "        return (min(given_list), max(given_list))\n",
    "    else:\n",
    "        mid = len(given_list) // 2\n",
    "        min_l, max_l = min_max(given_list[:mid])\n",
    "        min_r, max_r = min_max(given_list[mid:])\n",
    "        return (min(min_l, min_r), max(max_l, max_r))\n",
    "\n",
    "#performing min_max function on both features\n",
    "#from generated dataset\n",
    "hor_min, hor_max = min_max(dataset[:,0])\n",
    "ver_min, ver_max = min_max(dataset[:,1])\n",
    "\n",
    "\n",
    "#showing result\n",
    "#scatter points and boundry lines\n",
    "fig, ax = plt.subplots()\n",
    "ax.set_xlim([-5, 5])\n",
    "ax.set_ylim([-5, 5])\n",
    "ax.scatter(dataset[:,0], dataset[:,1], s= 5, c= 'r')\n",
    "ax.add_patch(Rectangle((hor_min, ver_min), hor_max - hor_min, ver_max - ver_min,\n",
    "                       edgecolor = 'g', fill= False, lw= 2))"
   ]
  },
  {
   "cell_type": "code",
   "execution_count": null,
   "metadata": {},
   "outputs": [],
   "source": []
  }
 ],
 "metadata": {
  "kernelspec": {
   "display_name": "Python 3",
   "language": "python",
   "name": "python3"
  },
  "language_info": {
   "codemirror_mode": {
    "name": "ipython",
    "version": 3
   },
   "file_extension": ".py",
   "mimetype": "text/x-python",
   "name": "python",
   "nbconvert_exporter": "python",
   "pygments_lexer": "ipython3",
   "version": "3.8.3"
  }
 },
 "nbformat": 4,
 "nbformat_minor": 4
}
